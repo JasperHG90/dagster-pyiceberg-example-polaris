{
 "cells": [
  {
   "cell_type": "markdown",
   "metadata": {},
   "source": [
    "# Access the Iceberg catalog\n",
    "\n",
    "This notebook shows you how to load iceberg tables using [pyiceberg](https://github.com/apache/iceberg-python).\n",
    "\n",
    "Note: before running this notebook, be sure to materialize the dagster assets. Otherwise, the tables will not be available.\n",
    "\n",
    "## Connecting to the catalog\n",
    "\n",
    "You can connect to the Polaris catalog as follows. The required credentials have been stored in the `/home/vscode/workspace/.pyiceberg.yaml` configuration file, which PyIceberg automatically finds because the `PYICEBERG_HOME` environment variable has been set in `.devcontainer/.env`."
   ]
  },
  {
   "cell_type": "code",
   "execution_count": null,
   "metadata": {},
   "outputs": [],
   "source": [
    "from pyiceberg.catalog import load_catalog\n",
    "\n",
    "catalog = load_catalog(\n",
    "    name=\"dagster_example_catalog\",\n",
    ")"
   ]
  },
  {
   "cell_type": "markdown",
   "metadata": {},
   "source": [
    "If you don't see a namespace here, be sure to run `just nc` from the repository root."
   ]
  },
  {
   "cell_type": "code",
   "execution_count": 2,
   "metadata": {},
   "outputs": [
    {
     "data": {
      "text/plain": [
       "[('air_quality',)]"
      ]
     },
     "execution_count": 2,
     "metadata": {},
     "output_type": "execute_result"
    }
   ],
   "source": [
    "catalog.list_namespaces()"
   ]
  },
  {
   "cell_type": "markdown",
   "metadata": {},
   "source": [
    "If you've materialized the `daily_air_quality_data`, then you'll see it listed under the `air_quality` namespace."
   ]
  },
  {
   "cell_type": "code",
   "execution_count": 3,
   "metadata": {},
   "outputs": [
    {
     "data": {
      "text/plain": [
       "[('air_quality', 'daily_air_quality_data'),\n",
       " ('air_quality', 'daily_avg_air_quality_data')]"
      ]
     },
     "execution_count": 3,
     "metadata": {},
     "output_type": "execute_result"
    }
   ],
   "source": [
    "catalog.list_tables(namespace=\"air_quality\")"
   ]
  },
  {
   "cell_type": "markdown",
   "metadata": {},
   "source": [
    "You can load the table as follows:"
   ]
  },
  {
   "cell_type": "code",
   "execution_count": 4,
   "metadata": {},
   "outputs": [
    {
     "data": {
      "text/plain": [
       "daily_air_quality_data(\n",
       "  1: station_number: optional string,\n",
       "  2: value: optional double,\n",
       "  3: timestamp_measured: optional string,\n",
       "  4: formula: optional string,\n",
       "  5: measurement_date: optional date\n",
       "),\n",
       "partition by: [measurement_date],\n",
       "sort order: [],\n",
       "snapshot: Operation.APPEND: id=5168509437393138058, parent_id=6774933075444546875, schema_id=0"
      ]
     },
     "execution_count": 4,
     "metadata": {},
     "output_type": "execute_result"
    }
   ],
   "source": [
    "table_daily_air_quality_data = catalog.load_table(\"air_quality.daily_air_quality_data\")\n",
    "\n",
    "table_daily_air_quality_data"
   ]
  },
  {
   "cell_type": "markdown",
   "metadata": {},
   "source": [
    "As you can see, the table is partitioned by the column `measurement_date`. This is because the `daily_air_quality_data` asset is partitioned on this column:\n",
    "\n",
    "```python\n",
    "# src/dagster_pyiceberg_example/partitions.py\n",
    "daily_partition = DailyPartitionsDefinition(\n",
    "    start_date=datetime.datetime(2024, 10, 20),\n",
    "    end_offset=0,\n",
    "    timezone=\"Europe/Amsterdam\",\n",
    "    fmt=\"%Y-%m-%d\",\n",
    ")\n",
    "\n",
    "# src/dagster_pyiceberg_example/assets/__init__.py\n",
    "@asset(\n",
    "    description=\"Copy air quality data to iceberg table\",\n",
    "    compute_kind=\"iceberg\",\n",
    "    io_manager_key=\"warehouse_io_manager\",\n",
    "    partitions_def=daily_partition,\n",
    "    ins={\n",
    "        \"ingested_data\": AssetIn(\n",
    "            \"air_quality_data\",\n",
    "            # NB: need this to control which downstream asset partitions are materialized\n",
    "            partition_mapping=MultiToSingleDimensionPartitionMapping(\n",
    "                partition_dimension_name=\"daily\"\n",
    "            ),\n",
    "            input_manager_key=\"landing_zone_io_manager\",\n",
    "            # NB: Some partitions can fail because of 500 errors from API\n",
    "            #  So we need to allow missing partitions\n",
    "            metadata={\"allow_missing_partitions\": True},\n",
    "        )\n",
    "    },\n",
    "    code_version=\"v1\",\n",
    "    group_name=\"measurements\",\n",
    "    metadata={\n",
    "        \"partition_expr\": \"measurement_date\",\n",
    "    },\n",
    ")\n",
    "def daily_air_quality_data():\n",
    "    ...\n",
    "```"
   ]
  },
  {
   "cell_type": "markdown",
   "metadata": {},
   "source": [
    "You can find the table metadata in the snapshot information. This also contains a reference to the dagster run id and partition key that generated the snapshot."
   ]
  },
  {
   "cell_type": "code",
   "execution_count": 6,
   "metadata": {},
   "outputs": [
    {
     "data": {
      "text/plain": [
       "{'snapshot-id': 4597381090457490275,\n",
       " 'sequence-number': 1,\n",
       " 'timestamp-ms': 1732195883036,\n",
       " 'manifest-list': 'file:///tmp/dagster_example_catalog/air_quality/daily_air_quality_data/metadata/snap-4597381090457490275-0-83501f5b-c0bf-4af2-ab38-775e61e88b6a.avro',\n",
       " 'summary': {'operation': 'append',\n",
       "  'added-files-size': '3903',\n",
       "  'added-data-files': '1',\n",
       "  'added-records': '612',\n",
       "  'changed-partition-count': '1',\n",
       "  'created-by': 'dagster',\n",
       "  'dagster-run-id': 'd77731e4-0551-4d25-b58e-1f72cbcaaeba',\n",
       "  'pyiceberg-version': '0.8.0',\n",
       "  'dagster-pyiceberg-version': '0.1.3',\n",
       "  'dagster-partition-key': '2024-11-20',\n",
       "  'total-data-files': '1',\n",
       "  'total-delete-files': '0',\n",
       "  'total-records': '612',\n",
       "  'total-files-size': '3903',\n",
       "  'total-position-deletes': '0',\n",
       "  'total-equality-deletes': '0'},\n",
       " 'schema-id': 0}"
      ]
     },
     "execution_count": 6,
     "metadata": {},
     "output_type": "execute_result"
    }
   ],
   "source": [
    "table_daily_air_quality_data.snapshots()[0].model_dump()"
   ]
  },
  {
   "cell_type": "markdown",
   "metadata": {},
   "source": [
    "You can use e.g. Polars to load a particular snapshot"
   ]
  },
  {
   "cell_type": "code",
   "execution_count": 14,
   "metadata": {},
   "outputs": [],
   "source": [
    "import polars as pl\n",
    "\n",
    "snapshots = table_daily_air_quality_data.snapshots()\n",
    "\n",
    "pdf = pl.scan_iceberg(\n",
    "    table_daily_air_quality_data,\n",
    "    snapshot_id=snapshots[0].snapshot_id\n",
    ")"
   ]
  },
  {
   "cell_type": "code",
   "execution_count": 15,
   "metadata": {},
   "outputs": [
    {
     "data": {
      "text/html": [
       "<div><style>\n",
       ".dataframe > thead > tr,\n",
       ".dataframe > tbody > tr {\n",
       "  text-align: right;\n",
       "  white-space: pre-wrap;\n",
       "}\n",
       "</style>\n",
       "<small>shape: (612, 5)</small><table border=\"1\" class=\"dataframe\"><thead><tr><th>station_number</th><th>value</th><th>timestamp_measured</th><th>formula</th><th>measurement_date</th></tr><tr><td>str</td><td>f64</td><td>str</td><td>str</td><td>date</td></tr></thead><tbody><tr><td>&quot;NL01485&quot;</td><td>0.9</td><td>&quot;2024-11-20T23:00:00+00:00&quot;</td><td>&quot;NO&quot;</td><td>2024-11-20</td></tr><tr><td>&quot;NL01485&quot;</td><td>17.5</td><td>&quot;2024-11-20T23:00:00+00:00&quot;</td><td>&quot;NO2&quot;</td><td>2024-11-20</td></tr><tr><td>&quot;NL01485&quot;</td><td>0.3</td><td>&quot;2024-11-20T23:00:00+00:00&quot;</td><td>&quot;SO2&quot;</td><td>2024-11-20</td></tr><tr><td>&quot;NL01485&quot;</td><td>51.3</td><td>&quot;2024-11-20T23:00:00+00:00&quot;</td><td>&quot;O3&quot;</td><td>2024-11-20</td></tr><tr><td>&quot;NL01485&quot;</td><td>0.23</td><td>&quot;2024-11-20T23:00:00+00:00&quot;</td><td>&quot;C6H6&quot;</td><td>2024-11-20</td></tr><tr><td>&hellip;</td><td>&hellip;</td><td>&hellip;</td><td>&hellip;</td><td>&hellip;</td></tr><tr><td>&quot;NL01496&quot;</td><td>0.16</td><td>&quot;2024-11-20T00:00:00+00:00&quot;</td><td>&quot;C6H6&quot;</td><td>2024-11-20</td></tr><tr><td>&quot;NL01496&quot;</td><td>0.08</td><td>&quot;2024-11-20T00:00:00+00:00&quot;</td><td>&quot;C7H8&quot;</td><td>2024-11-20</td></tr><tr><td>&quot;NL01496&quot;</td><td>3.2</td><td>&quot;2024-11-20T00:00:00+00:00&quot;</td><td>&quot;PM25&quot;</td><td>2024-11-20</td></tr><tr><td>&quot;NL01496&quot;</td><td>11.5</td><td>&quot;2024-11-20T00:00:00+00:00&quot;</td><td>&quot;PM10&quot;</td><td>2024-11-20</td></tr><tr><td>&quot;NL01496&quot;</td><td>0.03</td><td>&quot;2024-11-20T00:00:00+00:00&quot;</td><td>&quot;FN&quot;</td><td>2024-11-20</td></tr></tbody></table></div>"
      ],
      "text/plain": [
       "shape: (612, 5)\n",
       "┌────────────────┬───────┬───────────────────────────┬─────────┬──────────────────┐\n",
       "│ station_number ┆ value ┆ timestamp_measured        ┆ formula ┆ measurement_date │\n",
       "│ ---            ┆ ---   ┆ ---                       ┆ ---     ┆ ---              │\n",
       "│ str            ┆ f64   ┆ str                       ┆ str     ┆ date             │\n",
       "╞════════════════╪═══════╪═══════════════════════════╪═════════╪══════════════════╡\n",
       "│ NL01485        ┆ 0.9   ┆ 2024-11-20T23:00:00+00:00 ┆ NO      ┆ 2024-11-20       │\n",
       "│ NL01485        ┆ 17.5  ┆ 2024-11-20T23:00:00+00:00 ┆ NO2     ┆ 2024-11-20       │\n",
       "│ NL01485        ┆ 0.3   ┆ 2024-11-20T23:00:00+00:00 ┆ SO2     ┆ 2024-11-20       │\n",
       "│ NL01485        ┆ 51.3  ┆ 2024-11-20T23:00:00+00:00 ┆ O3      ┆ 2024-11-20       │\n",
       "│ NL01485        ┆ 0.23  ┆ 2024-11-20T23:00:00+00:00 ┆ C6H6    ┆ 2024-11-20       │\n",
       "│ …              ┆ …     ┆ …                         ┆ …       ┆ …                │\n",
       "│ NL01496        ┆ 0.16  ┆ 2024-11-20T00:00:00+00:00 ┆ C6H6    ┆ 2024-11-20       │\n",
       "│ NL01496        ┆ 0.08  ┆ 2024-11-20T00:00:00+00:00 ┆ C7H8    ┆ 2024-11-20       │\n",
       "│ NL01496        ┆ 3.2   ┆ 2024-11-20T00:00:00+00:00 ┆ PM25    ┆ 2024-11-20       │\n",
       "│ NL01496        ┆ 11.5  ┆ 2024-11-20T00:00:00+00:00 ┆ PM10    ┆ 2024-11-20       │\n",
       "│ NL01496        ┆ 0.03  ┆ 2024-11-20T00:00:00+00:00 ┆ FN      ┆ 2024-11-20       │\n",
       "└────────────────┴───────┴───────────────────────────┴─────────┴──────────────────┘"
      ]
     },
     "execution_count": 15,
     "metadata": {},
     "output_type": "execute_result"
    }
   ],
   "source": [
    "pdf.collect()"
   ]
  }
 ],
 "metadata": {
  "kernelspec": {
   "display_name": ".venv",
   "language": "python",
   "name": "python3"
  },
  "language_info": {
   "codemirror_mode": {
    "name": "ipython",
    "version": 3
   },
   "file_extension": ".py",
   "mimetype": "text/x-python",
   "name": "python",
   "nbconvert_exporter": "python",
   "pygments_lexer": "ipython3",
   "version": "3.11.10"
  }
 },
 "nbformat": 4,
 "nbformat_minor": 2
}
