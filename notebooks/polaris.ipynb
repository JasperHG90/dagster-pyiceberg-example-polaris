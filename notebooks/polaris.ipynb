{
 "cells": [
  {
   "cell_type": "markdown",
   "metadata": {},
   "source": [
    "# Interacting with the Polaris catalog"
   ]
  },
  {
   "cell_type": "markdown",
   "metadata": {},
   "source": [
    "You can interact with the Polaris catalog through the [management](https://polaris.apache.org/in-dev/unreleased/polaris-management-service/) and [catalog](https://polaris.apache.org/in-dev/unreleased/rest-catalog-open-api/) APIs."
   ]
  },
  {
   "cell_type": "code",
   "execution_count": 1,
   "metadata": {},
   "outputs": [],
   "source": [
    "import httpx\n",
    "\n",
    "mgmt_client = httpx.Client(\n",
    "    base_url=\"http://polaris:8181/api/management/v1/\",\n",
    "    headers={\n",
    "        \"Authorization\": \"Bearer principal:root;realm:default-realm\",\n",
    "        \"Content-Type\": \"application/json\",\n",
    "    }\n",
    ")\n",
    "\n",
    "catalog_client = httpx.Client(\n",
    "    base_url=\"http://polaris:8181/api/catalog/v1\",\n",
    "    headers={\n",
    "        \"Authorization\": \"Bearer principal:root;realm:default-realm\",\n",
    "        \"Content-Type\": \"application/json\",\n",
    "    }\n",
    ")"
   ]
  },
  {
   "cell_type": "markdown",
   "metadata": {},
   "source": [
    "For example, we can retrieve the catalogs, namespaces and tables that we've created:"
   ]
  },
  {
   "cell_type": "code",
   "execution_count": 41,
   "metadata": {},
   "outputs": [],
   "source": [
    "catalogs = mgmt_client.get(\"catalogs\").json()\n",
    "catalog_name = catalogs[\"catalogs\"][0][\"name\"]\n",
    "\n",
    "namespaces = catalog_client.get(f\"{catalog_name}/namespaces\").json()\n",
    "namespace_name = namespaces[\"namespaces\"][0][0]\n",
    "\n",
    "tables = catalog_client.get(f\"{catalog_name}/namespaces/{namespace_name}/tables\").json()\n",
    "table_names = [table[\"name\"] for table in tables[\"identifiers\"]]"
   ]
  },
  {
   "cell_type": "code",
   "execution_count": 43,
   "metadata": {},
   "outputs": [
    {
     "name": "stdout",
     "output_type": "stream",
     "text": [
      "Catalog: dagster_example_catalog\n",
      " +-- Namespace: air_quality\n",
      "     +-- Table: daily_air_quality_data\n",
      "     +-- Table: daily_avg_air_quality_data\n"
     ]
    }
   ],
   "source": [
    "from asciitree import LeftAligned\n",
    "from collections import OrderedDict as OD\n",
    "\n",
    "tree = {\n",
    "     f\"Catalog: {catalog_name}\": OD([\n",
    "         (\n",
    "             f'Namespace: {namespace_name}', OD([\n",
    "                 (f'Table: {table}', {}) for table in table_names\n",
    "             ])\n",
    "         )\n",
    "     ])\n",
    "}\n",
    "\n",
    "tr = LeftAligned()\n",
    "print(tr(tree))"
   ]
  },
  {
   "cell_type": "markdown",
   "metadata": {},
   "source": [
    "And we can retrieve the principal, principal roles, catalog roles, and grants:"
   ]
  },
  {
   "cell_type": "code",
   "execution_count": 119,
   "metadata": {},
   "outputs": [],
   "source": [
    "principals = [principal[\"name\"] for principal in mgmt_client.get(\"principals\").json()[\"principals\"]]"
   ]
  },
  {
   "cell_type": "code",
   "execution_count": 120,
   "metadata": {},
   "outputs": [
    {
     "name": "stdout",
     "output_type": "stream",
     "text": [
      "{'root': {'service_admin': {'catalog_roles': ['catalog_admin'], 'grants': ['CATALOG_MANAGE_ACCESS', 'CATALOG_MANAGE_METADATA']}}, 'dagster': {'dagster_principal_role': {'catalog_roles': ['orchestration_catalog_role'], 'grants': ['CATALOG_MANAGE_CONTENT']}}}\n"
     ]
    }
   ],
   "source": [
    "principals_ = {}\n",
    "\n",
    "for principal in principals:\n",
    "    principal_roles = mgmt_client.get(f\"principals/{principal}/principal-roles\").json()\n",
    "    principal_roles_ = {}\n",
    "    for role in principal_roles[\"roles\"]:\n",
    "        role_name = role[\"name\"]\n",
    "        catalog_roles = (\n",
    "            mgmt_client.get(f\"principal-roles/{role_name}/catalog-roles/{catalog_name}\").json()\n",
    "        )\n",
    "        catalog_role_name = [catalog_role[\"name\"] for catalog_role in catalog_roles[\"roles\"]]\n",
    "        grants = [\n",
    "            grant[\"privilege\"] \n",
    "            for grant in (\n",
    "                mgmt_client.get(f\"catalogs/{catalog_name}/catalog-roles/{catalog_role_name[0]}/grants\").json().get(\"grants\", [])\n",
    "            )\n",
    "        ]\n",
    "        principal_roles_[role_name] = {\n",
    "            \"catalog_roles\" : catalog_role_name,\n",
    "            \"grants\" : grants\n",
    "        }\n",
    "    principals_[principal] = principal_roles_\n",
    "    \n",
    "print(principals_)"
   ]
  },
  {
   "cell_type": "code",
   "execution_count": 121,
   "metadata": {},
   "outputs": [
    {
     "name": "stdout",
     "output_type": "stream",
     "text": [
      "Principals\n",
      " +-- Principal: root\n",
      " |   +-- Principal role: service_admin\n",
      " |       +-- Catalog role: catalog_admin\n",
      " |           +-- Grant: CATALOG_MANAGE_ACCESS\n",
      " |           +-- Grant: CATALOG_MANAGE_METADATA\n",
      " +-- Principal: dagster\n",
      "     +-- Principal role: dagster_principal_role\n",
      "         +-- Catalog role: orchestration_catalog_role\n",
      "             +-- Grant: CATALOG_MANAGE_CONTENT\n"
     ]
    }
   ],
   "source": [
    "tree = []\n",
    "\n",
    "for principal, roles in principals_.items():\n",
    "    tree.append(\n",
    "        (f'Principal: {principal}',\n",
    "            OD([\n",
    "            (f'Principal role: {list(roles.keys())[0]}',\n",
    "            OD([\n",
    "                (f\"Catalog role: {roles[list(roles.keys())[0]]['catalog_roles'][0]}\", \n",
    "                OD([\n",
    "                        (f\"Grant: {grant}\", {}) for grant in roles[list(roles.keys())[0]][\"grants\"]\n",
    "                ]))\n",
    "            ]))\n",
    "        ])\n",
    "        )\n",
    "    )\n",
    "    \n",
    "print(tr({\"Principals\": OD(tree)}))"
   ]
  },
  {
   "cell_type": "code",
   "execution_count": null,
   "metadata": {},
   "outputs": [],
   "source": []
  }
 ],
 "metadata": {
  "kernelspec": {
   "display_name": ".venv",
   "language": "python",
   "name": "python3"
  },
  "language_info": {
   "codemirror_mode": {
    "name": "ipython",
    "version": 3
   },
   "file_extension": ".py",
   "mimetype": "text/x-python",
   "name": "python",
   "nbconvert_exporter": "python",
   "pygments_lexer": "ipython3",
   "version": "3.11.10"
  }
 },
 "nbformat": 4,
 "nbformat_minor": 2
}
